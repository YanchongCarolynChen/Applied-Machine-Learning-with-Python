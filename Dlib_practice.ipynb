{
 "cells": [
  {
   "cell_type": "code",
   "execution_count": 7,
   "metadata": {},
   "outputs": [],
   "source": [
    "import numpy as np\n",
    "import cv2\n",
    "import dlib"
   ]
  },
  {
   "cell_type": "code",
   "execution_count": null,
   "metadata": {},
   "outputs": [],
   "source": [
    "detector = dlib.get_frontal_face_detector()\n",
    "predictor = dlib.shape_predictor('shape_predictor_68_face_landmarks.dat')\n",
    "\n",
    "img = cv2.imread(\"1.jpg\")\n",
    "img_grey = cv2.cvtColor(img, cv2.COLOR_RGB2GRAY)\n",
    "\n",
    "rects = detector(img_grey, 0)\n",
    "for i in range(len(rects)):\n",
    "    landmarks = np.matrix([[p.x, p.y] for p in predictor(img, rects[i]).parts()]\n",
    "    for idx, point in enumeratate(landmarks):\n",
    "        pos = (point[0, 0], point(0, 1))\n",
    "        point(idx, pos)\n",
    "                          \n",
    "        cv2.circle(img, pos, 5, color = (0, 255, 0))\n",
    "        font = cv2.FONT_HERSHEY_SIMPLEX\n",
    "        cv2.putText(img, str(idx + 1), pos, font, 0.8, (0, 0, 255), 1, cv2.LINE_AA)\n",
    "        \n",
    "cv2.namedWindow(\"img\", 2)\n",
    "cv2.imshow(\"img\", img)\n",
    "cv2.waitkey(0)\n",
    "                          "
   ]
  }
 ],
 "metadata": {
  "kernelspec": {
   "display_name": "Python 3",
   "language": "python",
   "name": "python3"
  },
  "language_info": {
   "codemirror_mode": {
    "name": "ipython",
    "version": 3
   },
   "file_extension": ".py",
   "mimetype": "text/x-python",
   "name": "python",
   "nbconvert_exporter": "python",
   "pygments_lexer": "ipython3",
   "version": "3.6.4"
  }
 },
 "nbformat": 4,
 "nbformat_minor": 2
}
