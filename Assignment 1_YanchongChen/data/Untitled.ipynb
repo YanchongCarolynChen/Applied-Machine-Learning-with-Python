{
 "cells": [
  {
   "cell_type": "code",
   "execution_count": null,
   "metadata": {},
   "outputs": [],
   "source": [
    "# exploratory test\n",
    "# random package to create random indexes\n",
    "# and it includes sample module, which has range() and len() function embaded\n",
    "import pandas as pd\n",
    "digits = pd.read_csv(\"http://archive.ics.uci.edu/ml/machine-learning-datasets/optdigits/optdigits.tra\", header = None)\n",
    "# using describe(), head(), tail(), sample() to get some real records from the dataset\n",
    "from random import sample\n",
    "randomIndex = np.array(sample(range(len(digits)), 5))\n",
    "digitsSample = digits.ix[randomIndex]\n",
    "print(digitsSample)\n",
    "# queries the data\n",
    "iris.query('Petal_length > Sepal_length')\n",
    "iris.query('Petal_length == Sepal_length')\n",
    "# same as \n",
    "iris[iris.Petal_length > iris.Sepal_length]\n",
    "\n",
    "# to identify missing values\n",
    "pd.isnull()\n",
    "# how to handle missing values\n",
    "mean = np.mean(df.Salary)\n",
    "df. = df.Salry.fillna(mean)\n",
    "# how to drop labels with missing values\n",
    "df.dropna(axis = 0) # asix = 0 refers to rows\n",
    "df.dropna(axis = 1) # axis = 1 refers to columns\n",
    "\n"
   ]
  },
  {
   "cell_type": "code",
   "execution_count": 1,
   "metadata": {},
   "outputs": [],
   "source": [
    "from sklearn.model_selection import train_test_split"
   ]
  },
  {
   "cell_type": "code",
   "execution_count": null,
   "metadata": {},
   "outputs": [],
   "source": [
    "# how to examine data\n",
    "data.describe()\n",
    "data.head(5)\n",
    "data.tail(5)\n",
    "\n",
    "# how to convert data type into the correct format\n",
    "# to be filled\n",
    "\n",
    "# for large data set, take a sample of the data\n",
    "data.sample(10)\n",
    "# another way to perform sampling is to create random index\n",
    "# and then get random rows in the dataframe\n",
    "print(data.info())"
   ]
  },
  {
   "cell_type": "code",
   "execution_count": 5,
   "metadata": {},
   "outputs": [
    {
     "name": "stdout",
     "output_type": "stream",
     "text": [
      "[[0 1 2]\n",
      " [3 4 5]\n",
      " [6 7 8]]\n",
      "8\n",
      "[6 7 8]\n",
      "[2 5 8]\n"
     ]
    }
   ],
   "source": [
    "import numpy as np\n",
    "a = np.arange(9).reshape((3,3))\n",
    "print(a)\n",
    "print(np.max(a)) # 全局最大\n",
    "print(np.max(a, axis = 0)) # 每列最大 \n",
    "print(np.max(a, axis = 1)) # 每行最大 "
   ]
  },
  {
   "cell_type": "code",
   "execution_count": 4,
   "metadata": {},
   "outputs": [
    {
     "data": {
      "text/plain": [
       "array([[0, 1, 2],\n",
       "       [3, 4, 5],\n",
       "       [6, 7, 8]])"
      ]
     },
     "execution_count": 4,
     "metadata": {},
     "output_type": "execute_result"
    }
   ],
   "source": [
    ">>> print(np.where(a==np.max(a)))\n",
    "(array([2], dtype=int64), array([2], dtype=int64))\n",
    ">>> print(np.where(a==np.max(a,axis=0)))\n",
    "(array([2, 2, 2], dtype=int64), array([0, 1, 2], dtype=int64))"
   ]
  },
  {
   "cell_type": "code",
   "execution_count": 6,
   "metadata": {},
   "outputs": [
    {
     "name": "stdout",
     "output_type": "stream",
     "text": [
      "(array([2]), array([2]))\n"
     ]
    }
   ],
   "source": [
    "print(np.where(a==np.max(a)))\n"
   ]
  },
  {
   "cell_type": "code",
   "execution_count": 7,
   "metadata": {},
   "outputs": [
    {
     "name": "stdout",
     "output_type": "stream",
     "text": [
      "(array([2, 2, 2]), array([0, 1, 2]))\n"
     ]
    }
   ],
   "source": [
    "print(np.where(a==np.max(a,axis=0)))"
   ]
  },
  {
   "cell_type": "code",
   "execution_count": null,
   "metadata": {},
   "outputs": [],
   "source": []
  }
 ],
 "metadata": {
  "kernelspec": {
   "display_name": "Python 3",
   "language": "python",
   "name": "python3"
  },
  "language_info": {
   "codemirror_mode": {
    "name": "ipython",
    "version": 3
   },
   "file_extension": ".py",
   "mimetype": "text/x-python",
   "name": "python",
   "nbconvert_exporter": "python",
   "pygments_lexer": "ipython3",
   "version": "3.6.4"
  }
 },
 "nbformat": 4,
 "nbformat_minor": 2
}
